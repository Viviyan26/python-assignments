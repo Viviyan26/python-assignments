{
 "cells": [
  {
   "cell_type": "markdown",
   "metadata": {},
   "source": [
    "Write a program to read and write CSV files\n",
    "File Creation: Create MS Excel file (“student_marks.csv”) with 5 rows of student name,\n",
    "mark1, mark2, mark3, mark4. Use comma to separate each value in a row.\n",
    "File Display: Now, open your CSV file and display the file contents row by row (More\n",
    "information at: https://docs.python.org/3/library/csv.html).\n",
    "File Writing: Now, open (“student_marks.csv”) for writing. Ask user to enter name\n",
    "followed by 4 marks for one new student and write them onto the file"
   ]
  },
  {
   "cell_type": "code",
   "execution_count": 11,
   "metadata": {},
   "outputs": [],
   "source": [
    "import csv\n",
    "with open('student_marks.csv', newline='') as csvfile:\n",
    "    reader = csv.reader(csvfile, delimiter=' ', quotechar='|')\n",
    "    for row in reader:\n",
    "        print(', '.join(row))\n"
   ]
  },
  {
   "cell_type": "markdown",
   "metadata": {},
   "source": [
    "Write a program for Fruit Inventory Management.\n",
    "Create a dictionary fruits with fruit name as key and quantity available as values. There\n",
    "are 20 apples, 50 bananas, 100 oranges. Then, print outputs for the following queries."
   ]
  },
  {
   "cell_type": "code",
   "execution_count": 47,
   "metadata": {},
   "outputs": [],
   "source": [
    "fruits={\"apples\":20,\"bananas\":50,\"oranges\":100}"
   ]
  },
  {
   "cell_type": "code",
   "execution_count": 48,
   "metadata": {},
   "outputs": [
    {
     "name": "stdout",
     "output_type": "stream",
     "text": [
      "{'apples': 20, 'bananas': 50, 'oranges': 100}\n"
     ]
    }
   ],
   "source": [
    "#Show the entire dictionary fruits\n",
    "print(fruits)"
   ]
  },
  {
   "cell_type": "code",
   "execution_count": 49,
   "metadata": {},
   "outputs": [
    {
     "name": "stdout",
     "output_type": "stream",
     "text": [
      "50\n"
     ]
    }
   ],
   "source": [
    "#How many bananas are there?\n",
    "print(fruits.get('bananas'))"
   ]
  },
  {
   "cell_type": "code",
   "execution_count": 50,
   "metadata": {},
   "outputs": [
    {
     "data": {
      "text/plain": [
       "3"
      ]
     },
     "execution_count": 50,
     "metadata": {},
     "output_type": "execute_result"
    }
   ],
   "source": [
    "#How many items in the dictionary?\n",
    "len(fruits)"
   ]
  },
  {
   "cell_type": "code",
   "execution_count": 51,
   "metadata": {},
   "outputs": [
    {
     "name": "stdout",
     "output_type": "stream",
     "text": [
      "No\n"
     ]
    }
   ],
   "source": [
    "#Is grapes available in the dictionary?\n",
    "if \"grapes\" in fruits:\n",
    "    print(\"yes\")\n",
    "else:\n",
    "    print(\"No\")"
   ]
  },
  {
   "cell_type": "code",
   "execution_count": 52,
   "metadata": {
    "scrolled": true
   },
   "outputs": [
    {
     "name": "stdout",
     "output_type": "stream",
     "text": [
      "{'apples': 20, 'bananas': 50, 'oranges': 100, 'pears': 10}\n"
     ]
    }
   ],
   "source": [
    "#Does pears exists in the dictionary?. If so, return its quantity, otherwise, add 10 pears to dictionary.\n",
    "if \"pears\" in fruits.keys():\n",
    "    print(fruits.get('pears'))\n",
    "else:\n",
    "    fruits[\"pears\"]=10\n",
    "print(fruits)"
   ]
  },
  {
   "cell_type": "code",
   "execution_count": 114,
   "metadata": {},
   "outputs": [
    {
     "name": "stdout",
     "output_type": "stream",
     "text": [
      "['apples', 'bananas', 'oranges']\n",
      "['apples', 'bananas', 'oranges']\n",
      "['apples', 'bananas', 'oranges']\n"
     ]
    }
   ],
   "source": [
    "#Show all fruit names in ascending order (Iterate using for loop)\n",
    "for keys in fruits:\n",
    "    print(sorted(fruits.keys()))"
   ]
  },
  {
   "cell_type": "code",
   "execution_count": 115,
   "metadata": {},
   "outputs": [
    {
     "name": "stdout",
     "output_type": "stream",
     "text": [
      "['oranges', 'bananas', 'apples']\n"
     ]
    }
   ],
   "source": [
    "#Show all fruits in descending order of quantities\n",
    "print(sorted(fruits.keys(),reverse=True))"
   ]
  },
  {
   "cell_type": "code",
   "execution_count": 54,
   "metadata": {},
   "outputs": [
    {
     "name": "stdout",
     "output_type": "stream",
     "text": [
      "{'apples': 20, 'bananas': 50, 'oranges': 100}\n"
     ]
    }
   ],
   "source": [
    "#Remove pears from the dictionary.\n",
    "del fruits['pears']\n",
    "print(fruits)"
   ]
  },
  {
   "cell_type": "code",
   "execution_count": 55,
   "metadata": {},
   "outputs": [
    {
     "name": "stdout",
     "output_type": "stream",
     "text": [
      "('apples', 20) ('bananas', 50) ('oranges', 100)\n"
     ]
    }
   ],
   "source": [
    "#Develop a function show() that displays fruit name and quantity (Use .format() for pretty printing)\n",
    "def show():\n",
    "    print(\"{} {} {}\".format(*fruits.items()))\n",
    "show()"
   ]
  },
  {
   "cell_type": "code",
   "execution_count": 76,
   "metadata": {},
   "outputs": [],
   "source": [
    "#Develop a function add_fruit(name, quantity) that receives fruit name and quantity as\n",
    "#input and increases the quantity of the fruit. \n",
    "def add_fruit(fruits,name,quantity):\n",
    "    fruits[name]=fruits.get(name,0)+quantity"
   ]
  },
  {
   "cell_type": "code",
   "execution_count": 80,
   "metadata": {},
   "outputs": [
    {
     "name": "stdout",
     "output_type": "stream",
     "text": [
      "{'apples': 60, 'bananas': 50, 'oranges': 100}\n"
     ]
    }
   ],
   "source": [
    "#Now, add 40 apples to inventory by calling add_fruit(name, quantity)\n",
    "fruits={\"apples\":20,\"bananas\":50,\"oranges\":100}\n",
    "add_fruit(fruits,'apples',40)\n",
    "print(fruits)"
   ]
  },
  {
   "cell_type": "code",
   "execution_count": 84,
   "metadata": {},
   "outputs": [
    {
     "name": "stdout",
     "output_type": "stream",
     "text": [
      "{'apples': 20, 'bananas': 150, 'oranges': 100}\n"
     ]
    }
   ],
   "source": [
    "#Now, add 100 bananas to inventory, by calling add_fruit(name, quantity)\n",
    "fruits={\"apples\":20,\"bananas\":50,\"oranges\":100}\n",
    "add_fruit(fruits,\"bananas\",100)\n",
    "print(fruits)"
   ]
  },
  {
   "cell_type": "code",
   "execution_count": 85,
   "metadata": {},
   "outputs": [
    {
     "name": "stdout",
     "output_type": "stream",
     "text": [
      "('apples', 20) ('bananas', 150) ('oranges', 100)\n"
     ]
    }
   ],
   "source": [
    "#Now, show the current inventory, by calling show()\n",
    "show()"
   ]
  },
  {
   "cell_type": "code",
   "execution_count": 103,
   "metadata": {},
   "outputs": [
    {
     "name": "stdout",
     "output_type": "stream",
     "text": [
      "{'apple': 300, 'mango': 87, 'banana': 320}\n"
     ]
    }
   ],
   "source": [
    "#Write the inventory fruits onto a file. (Use Pickle for file writing and reading)\n",
    "import pickle\n",
    "new_inventory={\"apple\":300,\"mango\":87,\"banana\":320}\n",
    "# Write the dictionary to the pickle file\n",
    "file = open(\"fruits_inventory.p\", \"wb\")\n",
    "pickle.dump(new_inventory, file)\n",
    "print(new_inventory)"
   ]
  },
  {
   "cell_type": "code",
   "execution_count": 104,
   "metadata": {},
   "outputs": [
    {
     "name": "stdout",
     "output_type": "stream",
     "text": [
      "{'apple': 300, 'mango': 87, 'banana': 320}\n"
     ]
    }
   ],
   "source": [
    "#Now, open Pickle file and display the inventory.\n",
    "file = open(\"fruits_inventory.p\",\"rb\")\n",
    "dict2 = pickle.load(file)\n",
    "file.close()\n",
    "print(new_inventory)"
   ]
  },
  {
   "cell_type": "code",
   "execution_count": null,
   "metadata": {},
   "outputs": [],
   "source": []
  }
 ],
 "metadata": {
  "kernelspec": {
   "display_name": "Python 3",
   "language": "python",
   "name": "python3"
  },
  "language_info": {
   "codemirror_mode": {
    "name": "ipython",
    "version": 3
   },
   "file_extension": ".py",
   "mimetype": "text/x-python",
   "name": "python",
   "nbconvert_exporter": "python",
   "pygments_lexer": "ipython3",
   "version": "3.7.4"
  }
 },
 "nbformat": 4,
 "nbformat_minor": 2
}
