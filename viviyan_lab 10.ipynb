{
 "cells": [
  {
   "cell_type": "markdown",
   "metadata": {},
   "source": [
    "### Lab10. Implementation of Map, Filter and Reduce Function"
   ]
  },
  {
   "cell_type": "markdown",
   "metadata": {},
   "source": [
    "#### Question1. Write a program to implement MAP function. Find the square root of a list of numbers [1, 2, 4, 6] using map and sqrt functions. Check the answer against your user defined function mymap()."
   ]
  },
  {
   "cell_type": "code",
   "execution_count": 9,
   "metadata": {},
   "outputs": [
    {
     "name": "stdout",
     "output_type": "stream",
     "text": [
      "[1.0, 1.4142135623730951, 2.0, 2.449489742783178]\n"
     ]
    },
    {
     "data": {
      "text/plain": [
       "[1.0, 1.4142135623730951, 2.0, 2.449489742783178]"
      ]
     },
     "execution_count": 9,
     "metadata": {},
     "output_type": "execute_result"
    }
   ],
   "source": [
    "from math import sqrt\n",
    "lst=[1,2,4,6]\n",
    "map_object=map(sqrt,lst)\n",
    "print(list(map_object))\n",
    "\n",
    "\n",
    "def mymap(f, seq):\n",
    "    result = []\n",
    "    for elt in seq:\n",
    "        result.append(f(elt))\n",
    "    return result\n",
    "mymap(sqrt,lst)"
   ]
  },
  {
   "cell_type": "markdown",
   "metadata": {},
   "source": [
    "#### Question2. Write a program to implement FILTER function. Filter all upper case letters in a list ['x', 'Y', '2', '3', 'Z', ‘b’] using filter function. Check the answer against your user define function myfilter()."
   ]
  },
  {
   "cell_type": "code",
   "execution_count": 16,
   "metadata": {},
   "outputs": [
    {
     "name": "stdout",
     "output_type": "stream",
     "text": [
      "['Y', 'Z']\n"
     ]
    },
    {
     "data": {
      "text/plain": [
       "['Y', 'Z']"
      ]
     },
     "execution_count": 16,
     "metadata": {},
     "output_type": "execute_result"
    }
   ],
   "source": [
    "filter_object=filter(str.isupper,['x', 'Y', '2', '3', 'Z', 'b'])\n",
    "print(list(filter_object))\n",
    "\n",
    "def filter(f, seq):\n",
    "    result = []\n",
    "    for elt in seq:\n",
    "        if f(elt):\n",
    "            result.append(elt)\n",
    "    return result\n",
    "filter(str.isupper,['x', 'Y', '2', '3', 'Z', 'b'])"
   ]
  },
  {
   "cell_type": "markdown",
   "metadata": {},
   "source": [
    "#### Question3.Write a program to create a lambda function that takes two characters and concatenates them. Now, apply this function inside REDUCE function that will reduce the list of characters [‘a’, ‘b’, ‘c’, d’] with the intial value ‘x’."
   ]
  },
  {
   "cell_type": "code",
   "execution_count": 26,
   "metadata": {},
   "outputs": [
    {
     "data": {
      "text/plain": [
       "'xabcd'"
      ]
     },
     "execution_count": 26,
     "metadata": {},
     "output_type": "execute_result"
    }
   ],
   "source": [
    "from functools import reduce\n",
    "(lambda x,y:x+y)('a','b')\n",
    "reduce (lambda x,y:x+y,['a','b','c','d'],'x')"
   ]
  },
  {
   "cell_type": "markdown",
   "metadata": {},
   "source": [
    "#### Question4. Imagine an accounting routine used in a book shop. It works on a list with sublists, which look like this:\n",
    "\n",
    "#### Write a Python program, which returns a list with 2-tuples. Each tuple consists of an order number and the product of the price per items and the quantity. The product should be decreased by RS 10 if the value of the order is smaller than RS 100.00. Write a Python program using lambda and map functions. "
   ]
  },
  {
   "cell_type": "code",
   "execution_count": 1,
   "metadata": {},
   "outputs": [
    {
     "name": "stdout",
     "output_type": "stream",
     "text": [
      "[34587, 'Learning Python , Mark Lutz', 4, 40.95]\n",
      "[98762, 'Programming Python , Mark Lutz', 5, 56.8]\n",
      "[77226, 'Head first Python , Paul Barry', 3, 32.95]\n",
      "[88112, 'Einfuhrung in Python , Bernd Klein', 3, 24.99]\n"
     ]
    }
   ],
   "source": [
    "tab = [[34587,'Learning Python , Mark Lutz',4,40.95],\n",
    "       [98762,'Programming Python , Mark Lutz',5,56.80],\n",
    "       [77226,'Head first Python , Paul Barry',3,32.95],\n",
    "       [88112,'Einfuhrung in Python , Bernd Klein',3,24.99]]\n",
    "print(*tab, sep='\\n')"
   ]
  },
  {
   "cell_type": "code",
   "execution_count": 2,
   "metadata": {},
   "outputs": [
    {
     "name": "stdout",
     "output_type": "stream",
     "text": [
      "[(34587, 98762, 77226, 88112), (163.8, 284.0, 88.85, 64.97)]\n"
     ]
    }
   ],
   "source": [
    "prg = []\n",
    "prg1 = []\n",
    "final = []\n",
    "nprg = []\n",
    "for i in range(4):\n",
    "    j=tab[i][2]*tab[i][3]\n",
    "    if j < 100:\n",
    "        j = j - 10\n",
    "        nprg.append(round(j,2))\n",
    "    else:\n",
    "        nprg.append(round(j,2))\n",
    "    prg1.append(tab[i][0])   \n",
    "t1=tuple(prg1)\n",
    "t2=tuple(nprg)\n",
    "final.append(t1)\n",
    "final.append(t2)\n",
    "print(final)"
   ]
  },
  {
   "cell_type": "code",
   "execution_count": null,
   "metadata": {},
   "outputs": [],
   "source": []
  }
 ],
 "metadata": {
  "kernelspec": {
   "display_name": "Python 3",
   "language": "python",
   "name": "python3"
  },
  "language_info": {
   "codemirror_mode": {
    "name": "ipython",
    "version": 3
   },
   "file_extension": ".py",
   "mimetype": "text/x-python",
   "name": "python",
   "nbconvert_exporter": "python",
   "pygments_lexer": "ipython3",
   "version": "3.8.3"
  }
 },
 "nbformat": 4,
 "nbformat_minor": 2
}
