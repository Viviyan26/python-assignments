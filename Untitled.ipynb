{
 "cells": [
  {
   "cell_type": "code",
   "execution_count": null,
   "metadata": {},
   "outputs": [],
   "source": [
    "while True:\n",
    "    st_name=str(input(\"enter the name  \"))\n",
    "    file=open(\"stock_prices.txt\",\"a\")\n",
    "    file.write(st_name)\n",
    "    file.write(\"  \")\n",
    "    for i in range(5):\n",
    "        p=input()\n",
    "        file.write(p)\n",
    "        file.write(\"  \") \n",
    "    file.write(\"\\n\")    \n",
    "    con = str(input(\"want to continue  :  \"))\n",
    "    if con =='n':\n",
    "        break   \n",
    "file.close()            "
   ]
  },
  {
   "cell_type": "code",
   "execution_count": null,
   "metadata": {},
   "outputs": [],
   "source": [
    "for st in open(\"stock_prices.txt\",\"r\").readlines():\n",
    "    p_min=[]\n",
    "    calc=st.split()\n",
    "    print(calc[0])  \n",
    "    for i in range(1,6):\n",
    "        p_min.append(int(calc[i]))\n",
    "    print(min(p_min))    \n",
    "    print(max(p_min))\n",
    "    av=sum(p_min)\n",
    "    avg=av/5\n",
    "    print(avg)\n",
    "    print(\"\\n\")"
   ]
  },
  {
   "cell_type": "code",
   "execution_count": null,
   "metadata": {},
   "outputs": [],
   "source": [
    "for st in open(\"stock_prices.txt\",\"r\").readlines():\n",
    "    p_min=[]\n",
    "    calc=st.split()\n",
    "    print(calc[0])  \n",
    "    for i in range(1,6):\n",
    "        p_min.append(int(calc[i]))\n",
    "    mip=min(p_min)    \n",
    "    mxp=max(p_min)\n",
    "    im=p_min.index(mip)\n",
    "    ix=p_min.index(mxp)\n",
    "    print(\"min price \",mip,\" on day \",im+1)\n",
    "    print(\"max price \",mxp,\" on day \",ix+1)"
   ]
  }
 ],
 "metadata": {
  "kernelspec": {
   "display_name": "Python 3",
   "language": "python",
   "name": "python3"
  },
  "language_info": {
   "codemirror_mode": {
    "name": "ipython",
    "version": 3
   },
   "file_extension": ".py",
   "mimetype": "text/x-python",
   "name": "python",
   "nbconvert_exporter": "python",
   "pygments_lexer": "ipython3",
   "version": "3.8.3"
  }
 },
 "nbformat": 4,
 "nbformat_minor": 4
}
